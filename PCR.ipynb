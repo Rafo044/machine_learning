{
 "cells": [
  {
   "cell_type": "code",
   "execution_count": 18,
   "metadata": {},
   "outputs": [
    {
     "data": {
      "text/html": [
       "<div>\n",
       "<style scoped>\n",
       "    .dataframe tbody tr th:only-of-type {\n",
       "        vertical-align: middle;\n",
       "    }\n",
       "\n",
       "    .dataframe tbody tr th {\n",
       "        vertical-align: top;\n",
       "    }\n",
       "\n",
       "    .dataframe thead th {\n",
       "        text-align: right;\n",
       "    }\n",
       "</style>\n",
       "<table border=\"1\" class=\"dataframe\">\n",
       "  <thead>\n",
       "    <tr style=\"text-align: right;\">\n",
       "      <th></th>\n",
       "      <th>Unnamed: 0</th>\n",
       "      <th>ISO</th>\n",
       "      <th>Importers</th>\n",
       "      <th>Value imported in 2022 (USD thousand)</th>\n",
       "      <th>Trade balance in 2022 (USD thousand)</th>\n",
       "      <th>Annual growth in value between 2018-2022 (%)</th>\n",
       "      <th>Annual growth in value between 2021-2022 (%)</th>\n",
       "      <th>Share in world imports (%)</th>\n",
       "      <th>Average distance of supplying countries (km)</th>\n",
       "      <th>Concentration of supplying countries</th>\n",
       "      <th>Average tariff (estimated) applied by the country (%)</th>\n",
       "    </tr>\n",
       "  </thead>\n",
       "  <tbody>\n",
       "    <tr>\n",
       "      <th>0</th>\n",
       "      <td>0</td>\n",
       "      <td>AF</td>\n",
       "      <td>Afghanistan</td>\n",
       "      <td>4689232</td>\n",
       "      <td>-3115279</td>\n",
       "      <td>-7.0</td>\n",
       "      <td>10.0</td>\n",
       "      <td>0.0</td>\n",
       "      <td>2277.0</td>\n",
       "      <td>0.14</td>\n",
       "      <td>8.1</td>\n",
       "    </tr>\n",
       "    <tr>\n",
       "      <th>1</th>\n",
       "      <td>1</td>\n",
       "      <td>AL</td>\n",
       "      <td>Albania</td>\n",
       "      <td>8407345</td>\n",
       "      <td>-4101110</td>\n",
       "      <td>10.0</td>\n",
       "      <td>9.0</td>\n",
       "      <td>0.0</td>\n",
       "      <td>1557.0</td>\n",
       "      <td>0.09</td>\n",
       "      <td>2.2</td>\n",
       "    </tr>\n",
       "    <tr>\n",
       "      <th>2</th>\n",
       "      <td>2</td>\n",
       "      <td>DZ</td>\n",
       "      <td>Algeria</td>\n",
       "      <td>33766897</td>\n",
       "      <td>32969278</td>\n",
       "      <td>-6.0</td>\n",
       "      <td>5.0</td>\n",
       "      <td>0.1</td>\n",
       "      <td>5034.0</td>\n",
       "      <td>0.08</td>\n",
       "      <td>14.4</td>\n",
       "    </tr>\n",
       "    <tr>\n",
       "      <th>3</th>\n",
       "      <td>3</td>\n",
       "      <td>AD</td>\n",
       "      <td>Andorra</td>\n",
       "      <td>1864441</td>\n",
       "      <td>-1478298</td>\n",
       "      <td>3.0</td>\n",
       "      <td>19.0</td>\n",
       "      <td>0.0</td>\n",
       "      <td>1028.0</td>\n",
       "      <td>0.45</td>\n",
       "      <td>NaN</td>\n",
       "    </tr>\n",
       "    <tr>\n",
       "      <th>4</th>\n",
       "      <td>4</td>\n",
       "      <td>AO</td>\n",
       "      <td>Angola</td>\n",
       "      <td>17710712</td>\n",
       "      <td>33557888</td>\n",
       "      <td>-1.0</td>\n",
       "      <td>56.0</td>\n",
       "      <td>0.1</td>\n",
       "      <td>8524.0</td>\n",
       "      <td>0.07</td>\n",
       "      <td>8.4</td>\n",
       "    </tr>\n",
       "    <tr>\n",
       "      <th>...</th>\n",
       "      <td>...</td>\n",
       "      <td>...</td>\n",
       "      <td>...</td>\n",
       "      <td>...</td>\n",
       "      <td>...</td>\n",
       "      <td>...</td>\n",
       "      <td>...</td>\n",
       "      <td>...</td>\n",
       "      <td>...</td>\n",
       "      <td>...</td>\n",
       "      <td>...</td>\n",
       "    </tr>\n",
       "    <tr>\n",
       "      <th>192</th>\n",
       "      <td>192</td>\n",
       "      <td>UZ</td>\n",
       "      <td>Uzbekistan</td>\n",
       "      <td>28264000</td>\n",
       "      <td>-12977072</td>\n",
       "      <td>11.0</td>\n",
       "      <td>19.0</td>\n",
       "      <td>0.1</td>\n",
       "      <td>3475.0</td>\n",
       "      <td>0.12</td>\n",
       "      <td>12.4</td>\n",
       "    </tr>\n",
       "    <tr>\n",
       "      <th>193</th>\n",
       "      <td>193</td>\n",
       "      <td>VU</td>\n",
       "      <td>Vanuatu</td>\n",
       "      <td>424720</td>\n",
       "      <td>-202207</td>\n",
       "      <td>7.0</td>\n",
       "      <td>25.0</td>\n",
       "      <td>0.0</td>\n",
       "      <td>6989.0</td>\n",
       "      <td>0.12</td>\n",
       "      <td>7.4</td>\n",
       "    </tr>\n",
       "    <tr>\n",
       "      <th>194</th>\n",
       "      <td>194</td>\n",
       "      <td>YE</td>\n",
       "      <td>Yemen</td>\n",
       "      <td>8985465</td>\n",
       "      <td>-7274046</td>\n",
       "      <td>8.0</td>\n",
       "      <td>8.0</td>\n",
       "      <td>0.0</td>\n",
       "      <td>6354.0</td>\n",
       "      <td>0.14</td>\n",
       "      <td>6.9</td>\n",
       "    </tr>\n",
       "    <tr>\n",
       "      <th>195</th>\n",
       "      <td>195</td>\n",
       "      <td>ZM</td>\n",
       "      <td>Zambia</td>\n",
       "      <td>9048377</td>\n",
       "      <td>2641355</td>\n",
       "      <td>-1.0</td>\n",
       "      <td>27.0</td>\n",
       "      <td>0.0</td>\n",
       "      <td>4526.0</td>\n",
       "      <td>0.17</td>\n",
       "      <td>10.9</td>\n",
       "    </tr>\n",
       "    <tr>\n",
       "      <th>196</th>\n",
       "      <td>196</td>\n",
       "      <td>ZW</td>\n",
       "      <td>Zimbabwe</td>\n",
       "      <td>5722540</td>\n",
       "      <td>-2908531</td>\n",
       "      <td>14.0</td>\n",
       "      <td>11.0</td>\n",
       "      <td>0.0</td>\n",
       "      <td>3831.0</td>\n",
       "      <td>0.36</td>\n",
       "      <td>14.4</td>\n",
       "    </tr>\n",
       "  </tbody>\n",
       "</table>\n",
       "<p>197 rows × 11 columns</p>\n",
       "</div>"
      ],
      "text/plain": [
       "     Unnamed: 0 ISO    Importers  Value imported in 2022 (USD thousand)  \\\n",
       "0             0  AF  Afghanistan                                4689232   \n",
       "1             1  AL      Albania                                8407345   \n",
       "2             2  DZ      Algeria                               33766897   \n",
       "3             3  AD      Andorra                                1864441   \n",
       "4             4  AO       Angola                               17710712   \n",
       "..          ...  ..          ...                                    ...   \n",
       "192         192  UZ   Uzbekistan                               28264000   \n",
       "193         193  VU      Vanuatu                                 424720   \n",
       "194         194  YE        Yemen                                8985465   \n",
       "195         195  ZM       Zambia                                9048377   \n",
       "196         196  ZW     Zimbabwe                                5722540   \n",
       "\n",
       "     Trade balance in 2022 (USD thousand)  \\\n",
       "0                                -3115279   \n",
       "1                                -4101110   \n",
       "2                                32969278   \n",
       "3                                -1478298   \n",
       "4                                33557888   \n",
       "..                                    ...   \n",
       "192                             -12977072   \n",
       "193                               -202207   \n",
       "194                              -7274046   \n",
       "195                               2641355   \n",
       "196                              -2908531   \n",
       "\n",
       "     Annual growth in value between 2018-2022 (%)  \\\n",
       "0                                            -7.0   \n",
       "1                                            10.0   \n",
       "2                                            -6.0   \n",
       "3                                             3.0   \n",
       "4                                            -1.0   \n",
       "..                                            ...   \n",
       "192                                          11.0   \n",
       "193                                           7.0   \n",
       "194                                           8.0   \n",
       "195                                          -1.0   \n",
       "196                                          14.0   \n",
       "\n",
       "     Annual growth in value between 2021-2022 (%)  Share in world imports (%)  \\\n",
       "0                                            10.0                         0.0   \n",
       "1                                             9.0                         0.0   \n",
       "2                                             5.0                         0.1   \n",
       "3                                            19.0                         0.0   \n",
       "4                                            56.0                         0.1   \n",
       "..                                            ...                         ...   \n",
       "192                                          19.0                         0.1   \n",
       "193                                          25.0                         0.0   \n",
       "194                                           8.0                         0.0   \n",
       "195                                          27.0                         0.0   \n",
       "196                                          11.0                         0.0   \n",
       "\n",
       "     Average distance of supplying countries (km)  \\\n",
       "0                                          2277.0   \n",
       "1                                          1557.0   \n",
       "2                                          5034.0   \n",
       "3                                          1028.0   \n",
       "4                                          8524.0   \n",
       "..                                            ...   \n",
       "192                                        3475.0   \n",
       "193                                        6989.0   \n",
       "194                                        6354.0   \n",
       "195                                        4526.0   \n",
       "196                                        3831.0   \n",
       "\n",
       "     Concentration of supplying countries  \\\n",
       "0                                    0.14   \n",
       "1                                    0.09   \n",
       "2                                    0.08   \n",
       "3                                    0.45   \n",
       "4                                    0.07   \n",
       "..                                    ...   \n",
       "192                                  0.12   \n",
       "193                                  0.12   \n",
       "194                                  0.14   \n",
       "195                                  0.17   \n",
       "196                                  0.36   \n",
       "\n",
       "     Average tariff (estimated) applied by the country (%)  \n",
       "0                                                  8.1      \n",
       "1                                                  2.2      \n",
       "2                                                 14.4      \n",
       "3                                                  NaN      \n",
       "4                                                  8.4      \n",
       "..                                                 ...      \n",
       "192                                               12.4      \n",
       "193                                                7.4      \n",
       "194                                                6.9      \n",
       "195                                               10.9      \n",
       "196                                               14.4      \n",
       "\n",
       "[197 rows x 11 columns]"
      ]
     },
     "execution_count": 18,
     "metadata": {},
     "output_type": "execute_result"
    }
   ],
   "source": [
    "import pandas as pd\n",
    "data = pd.read_csv(\"/var/home/rafo/vscode02/Dataset/World_country_trade.csv\")\n",
    "df = data.copy()\n",
    "df"
   ]
  },
  {
   "cell_type": "code",
   "execution_count": 19,
   "metadata": {},
   "outputs": [],
   "source": [
    "df.drop(\"ISO\", axis = 1, inplace=  True)"
   ]
  },
  {
   "cell_type": "code",
   "execution_count": 21,
   "metadata": {},
   "outputs": [
    {
     "data": {
      "text/html": [
       "<div>\n",
       "<style scoped>\n",
       "    .dataframe tbody tr th:only-of-type {\n",
       "        vertical-align: middle;\n",
       "    }\n",
       "\n",
       "    .dataframe tbody tr th {\n",
       "        vertical-align: top;\n",
       "    }\n",
       "\n",
       "    .dataframe thead th {\n",
       "        text-align: right;\n",
       "    }\n",
       "</style>\n",
       "<table border=\"1\" class=\"dataframe\">\n",
       "  <thead>\n",
       "    <tr style=\"text-align: right;\">\n",
       "      <th></th>\n",
       "      <th>Trade balance in 2022 (USD thousand)</th>\n",
       "      <th>Annual growth in value between 2018-2022 (%)</th>\n",
       "      <th>Annual growth in value between 2021-2022 (%)</th>\n",
       "      <th>Share in world imports (%)</th>\n",
       "      <th>Average distance of supplying countries (km)</th>\n",
       "      <th>Concentration of supplying countries</th>\n",
       "      <th>Average tariff (estimated) applied by the country (%)</th>\n",
       "    </tr>\n",
       "  </thead>\n",
       "  <tbody>\n",
       "    <tr>\n",
       "      <th>0</th>\n",
       "      <td>-3115279</td>\n",
       "      <td>-7.0</td>\n",
       "      <td>10.0</td>\n",
       "      <td>0.0</td>\n",
       "      <td>2277.0</td>\n",
       "      <td>0.14</td>\n",
       "      <td>8.1</td>\n",
       "    </tr>\n",
       "    <tr>\n",
       "      <th>1</th>\n",
       "      <td>-4101110</td>\n",
       "      <td>10.0</td>\n",
       "      <td>9.0</td>\n",
       "      <td>0.0</td>\n",
       "      <td>1557.0</td>\n",
       "      <td>0.09</td>\n",
       "      <td>2.2</td>\n",
       "    </tr>\n",
       "    <tr>\n",
       "      <th>2</th>\n",
       "      <td>32969278</td>\n",
       "      <td>-6.0</td>\n",
       "      <td>5.0</td>\n",
       "      <td>0.1</td>\n",
       "      <td>5034.0</td>\n",
       "      <td>0.08</td>\n",
       "      <td>14.4</td>\n",
       "    </tr>\n",
       "    <tr>\n",
       "      <th>3</th>\n",
       "      <td>-1478298</td>\n",
       "      <td>3.0</td>\n",
       "      <td>19.0</td>\n",
       "      <td>0.0</td>\n",
       "      <td>1028.0</td>\n",
       "      <td>0.45</td>\n",
       "      <td>NaN</td>\n",
       "    </tr>\n",
       "    <tr>\n",
       "      <th>4</th>\n",
       "      <td>33557888</td>\n",
       "      <td>-1.0</td>\n",
       "      <td>56.0</td>\n",
       "      <td>0.1</td>\n",
       "      <td>8524.0</td>\n",
       "      <td>0.07</td>\n",
       "      <td>8.4</td>\n",
       "    </tr>\n",
       "    <tr>\n",
       "      <th>...</th>\n",
       "      <td>...</td>\n",
       "      <td>...</td>\n",
       "      <td>...</td>\n",
       "      <td>...</td>\n",
       "      <td>...</td>\n",
       "      <td>...</td>\n",
       "      <td>...</td>\n",
       "    </tr>\n",
       "    <tr>\n",
       "      <th>192</th>\n",
       "      <td>-12977072</td>\n",
       "      <td>11.0</td>\n",
       "      <td>19.0</td>\n",
       "      <td>0.1</td>\n",
       "      <td>3475.0</td>\n",
       "      <td>0.12</td>\n",
       "      <td>12.4</td>\n",
       "    </tr>\n",
       "    <tr>\n",
       "      <th>193</th>\n",
       "      <td>-202207</td>\n",
       "      <td>7.0</td>\n",
       "      <td>25.0</td>\n",
       "      <td>0.0</td>\n",
       "      <td>6989.0</td>\n",
       "      <td>0.12</td>\n",
       "      <td>7.4</td>\n",
       "    </tr>\n",
       "    <tr>\n",
       "      <th>194</th>\n",
       "      <td>-7274046</td>\n",
       "      <td>8.0</td>\n",
       "      <td>8.0</td>\n",
       "      <td>0.0</td>\n",
       "      <td>6354.0</td>\n",
       "      <td>0.14</td>\n",
       "      <td>6.9</td>\n",
       "    </tr>\n",
       "    <tr>\n",
       "      <th>195</th>\n",
       "      <td>2641355</td>\n",
       "      <td>-1.0</td>\n",
       "      <td>27.0</td>\n",
       "      <td>0.0</td>\n",
       "      <td>4526.0</td>\n",
       "      <td>0.17</td>\n",
       "      <td>10.9</td>\n",
       "    </tr>\n",
       "    <tr>\n",
       "      <th>196</th>\n",
       "      <td>-2908531</td>\n",
       "      <td>14.0</td>\n",
       "      <td>11.0</td>\n",
       "      <td>0.0</td>\n",
       "      <td>3831.0</td>\n",
       "      <td>0.36</td>\n",
       "      <td>14.4</td>\n",
       "    </tr>\n",
       "  </tbody>\n",
       "</table>\n",
       "<p>197 rows × 7 columns</p>\n",
       "</div>"
      ],
      "text/plain": [
       "     Trade balance in 2022 (USD thousand)  \\\n",
       "0                                -3115279   \n",
       "1                                -4101110   \n",
       "2                                32969278   \n",
       "3                                -1478298   \n",
       "4                                33557888   \n",
       "..                                    ...   \n",
       "192                             -12977072   \n",
       "193                               -202207   \n",
       "194                              -7274046   \n",
       "195                               2641355   \n",
       "196                              -2908531   \n",
       "\n",
       "     Annual growth in value between 2018-2022 (%)  \\\n",
       "0                                            -7.0   \n",
       "1                                            10.0   \n",
       "2                                            -6.0   \n",
       "3                                             3.0   \n",
       "4                                            -1.0   \n",
       "..                                            ...   \n",
       "192                                          11.0   \n",
       "193                                           7.0   \n",
       "194                                           8.0   \n",
       "195                                          -1.0   \n",
       "196                                          14.0   \n",
       "\n",
       "     Annual growth in value between 2021-2022 (%)  Share in world imports (%)  \\\n",
       "0                                            10.0                         0.0   \n",
       "1                                             9.0                         0.0   \n",
       "2                                             5.0                         0.1   \n",
       "3                                            19.0                         0.0   \n",
       "4                                            56.0                         0.1   \n",
       "..                                            ...                         ...   \n",
       "192                                          19.0                         0.1   \n",
       "193                                          25.0                         0.0   \n",
       "194                                           8.0                         0.0   \n",
       "195                                          27.0                         0.0   \n",
       "196                                          11.0                         0.0   \n",
       "\n",
       "     Average distance of supplying countries (km)  \\\n",
       "0                                          2277.0   \n",
       "1                                          1557.0   \n",
       "2                                          5034.0   \n",
       "3                                          1028.0   \n",
       "4                                          8524.0   \n",
       "..                                            ...   \n",
       "192                                        3475.0   \n",
       "193                                        6989.0   \n",
       "194                                        6354.0   \n",
       "195                                        4526.0   \n",
       "196                                        3831.0   \n",
       "\n",
       "     Concentration of supplying countries  \\\n",
       "0                                    0.14   \n",
       "1                                    0.09   \n",
       "2                                    0.08   \n",
       "3                                    0.45   \n",
       "4                                    0.07   \n",
       "..                                    ...   \n",
       "192                                  0.12   \n",
       "193                                  0.12   \n",
       "194                                  0.14   \n",
       "195                                  0.17   \n",
       "196                                  0.36   \n",
       "\n",
       "     Average tariff (estimated) applied by the country (%)  \n",
       "0                                                  8.1      \n",
       "1                                                  2.2      \n",
       "2                                                 14.4      \n",
       "3                                                  NaN      \n",
       "4                                                  8.4      \n",
       "..                                                 ...      \n",
       "192                                               12.4      \n",
       "193                                                7.4      \n",
       "194                                                6.9      \n",
       "195                                               10.9      \n",
       "196                                               14.4      \n",
       "\n",
       "[197 rows x 7 columns]"
      ]
     },
     "execution_count": 21,
     "metadata": {},
     "output_type": "execute_result"
    }
   ],
   "source": [
    "df = df.iloc[:,2:len(df)]\n",
    "df"
   ]
  },
  {
   "cell_type": "code",
   "execution_count": 22,
   "metadata": {},
   "outputs": [],
   "source": [
    "df.dropna(inplace = True)"
   ]
  },
  {
   "cell_type": "code",
   "execution_count": 23,
   "metadata": {},
   "outputs": [
    {
     "name": "stdout",
     "output_type": "stream",
     "text": [
      "<class 'pandas.core.frame.DataFrame'>\n",
      "Index: 175 entries, 0 to 196\n",
      "Data columns (total 7 columns):\n",
      " #   Column                                                 Non-Null Count  Dtype  \n",
      "---  ------                                                 --------------  -----  \n",
      " 0   Trade balance in 2022 (USD thousand)                   175 non-null    int64  \n",
      " 1   Annual growth in value between 2018-2022 (%)           175 non-null    float64\n",
      " 2   Annual growth in value between 2021-2022 (%)           175 non-null    float64\n",
      " 3   Share in world imports (%)                             175 non-null    float64\n",
      " 4   Average distance of supplying countries (km)           175 non-null    float64\n",
      " 5   Concentration of supplying countries                   175 non-null    float64\n",
      " 6   Average tariff (estimated) applied by the country (%)  175 non-null    float64\n",
      "dtypes: float64(6), int64(1)\n",
      "memory usage: 10.9 KB\n"
     ]
    }
   ],
   "source": [
    "df.info()"
   ]
  },
  {
   "cell_type": "code",
   "execution_count": null,
   "metadata": {},
   "outputs": [],
   "source": []
  },
  {
   "cell_type": "code",
   "execution_count": 27,
   "metadata": {},
   "outputs": [],
   "source": [
    "from sklearn.metrics import mean_squared_error\n",
    "from sklearn.model_selection import train_test_split"
   ]
  },
  {
   "cell_type": "code",
   "execution_count": 24,
   "metadata": {},
   "outputs": [],
   "source": [
    "y = df[\"Trade balance in 2022 (USD thousand)\"]\n",
    "x = df.drop([\"Trade balance in 2022 (USD thousand)\"], axis = 1)"
   ]
  },
  {
   "cell_type": "code",
   "execution_count": null,
   "metadata": {},
   "outputs": [],
   "source": []
  },
  {
   "cell_type": "code",
   "execution_count": 28,
   "metadata": {},
   "outputs": [],
   "source": [
    "x_train,x_test,y_train,y_test = train_test_split(x,y,test_size=0.25,random_state=42)"
   ]
  },
  {
   "cell_type": "code",
   "execution_count": 29,
   "metadata": {},
   "outputs": [],
   "source": [
    "from sklearn.decomposition import PCA\n",
    "from sklearn.preprocessing import scale"
   ]
  },
  {
   "cell_type": "code",
   "execution_count": 30,
   "metadata": {},
   "outputs": [],
   "source": [
    "pca = PCA()"
   ]
  },
  {
   "cell_type": "code",
   "execution_count": 31,
   "metadata": {},
   "outputs": [
    {
     "data": {
      "text/plain": [
       "Annual growth in value between 2018-2022 (%)             0\n",
       "Annual growth in value between 2021-2022 (%)             0\n",
       "Share in world imports (%)                               0\n",
       "Average distance of supplying countries (km)             0\n",
       "Concentration of supplying countries                     0\n",
       "Average tariff (estimated) applied by the country (%)    0\n",
       "dtype: int64"
      ]
     },
     "execution_count": 31,
     "metadata": {},
     "output_type": "execute_result"
    }
   ],
   "source": [
    "x_train.isnull().sum()"
   ]
  },
  {
   "cell_type": "code",
   "execution_count": 32,
   "metadata": {},
   "outputs": [],
   "source": [
    "x_reduced_train = pca.fit_transform(scale(x_train))"
   ]
  },
  {
   "cell_type": "code",
   "execution_count": 33,
   "metadata": {},
   "outputs": [
    {
     "data": {
      "text/plain": [
       "array([[-1.57403253, -0.87349302, -0.45394966,  0.33679321,  0.28609248,\n",
       "        -0.00734556],\n",
       "       [-1.700917  ,  2.23131067,  0.85963107, -0.52678939,  0.94489045,\n",
       "        -0.04734255],\n",
       "       [ 0.93743539, -0.91778845, -0.55139092, -0.42192561, -0.27867407,\n",
       "        -0.61931092],\n",
       "       [-1.43295613,  0.95465927, -0.20854182, -1.06836303,  0.94202257,\n",
       "         0.49680712],\n",
       "       [-1.58155426,  0.5864771 , -0.73999604, -0.75672205, -0.27665607,\n",
       "         0.57429735],\n",
       "       [ 0.45115693, -0.13835483, -0.08499746, -0.2600989 , -0.22173872,\n",
       "        -0.29666345],\n",
       "       [-0.21237   , -0.65448478,  0.23237215, -0.66564437, -0.12179471,\n",
       "        -0.13745709],\n",
       "       [-1.99279005, -0.76899674, -0.81141171,  1.03229901,  0.07945427,\n",
       "         0.08832307],\n",
       "       [-1.61918778,  0.48366406, -0.41853946, -0.58501904, -0.23020548,\n",
       "         0.39205841]])"
      ]
     },
     "execution_count": 33,
     "metadata": {},
     "output_type": "execute_result"
    }
   ],
   "source": [
    "x_reduced_train[1:10]"
   ]
  },
  {
   "cell_type": "code",
   "execution_count": 34,
   "metadata": {},
   "outputs": [],
   "source": [
    "from sklearn.linear_model import LinearRegression"
   ]
  },
  {
   "cell_type": "code",
   "execution_count": 36,
   "metadata": {},
   "outputs": [],
   "source": [
    "lm = LinearRegression()"
   ]
  },
  {
   "cell_type": "code",
   "execution_count": 37,
   "metadata": {},
   "outputs": [],
   "source": [
    "pcr_model = lm.fit(x_reduced_train,y_train)"
   ]
  },
  {
   "attachments": {},
   "cell_type": "markdown",
   "metadata": {},
   "source": [
    "Sabit"
   ]
  },
  {
   "cell_type": "code",
   "execution_count": 38,
   "metadata": {},
   "outputs": [
    {
     "data": {
      "text/plain": [
       "3223505.9007633612"
      ]
     },
     "execution_count": 38,
     "metadata": {},
     "output_type": "execute_result"
    }
   ],
   "source": [
    "pcr_model.intercept_"
   ]
  },
  {
   "attachments": {},
   "cell_type": "markdown",
   "metadata": {},
   "source": [
    "Modelin əmsalı,qatsaylar"
   ]
  },
  {
   "cell_type": "code",
   "execution_count": 39,
   "metadata": {},
   "outputs": [
    {
     "data": {
      "text/plain": [
       "array([ -7581802.94775598, -17982030.55303797,  -4481875.38974945,\n",
       "        40899946.60218705,   7816386.60409518,  -9060440.76755149])"
      ]
     },
     "execution_count": 39,
     "metadata": {},
     "output_type": "execute_result"
    }
   ],
   "source": [
    "pcr_model.coef_"
   ]
  },
  {
   "attachments": {},
   "cell_type": "markdown",
   "metadata": {},
   "source": [
    "Təxmin etmə"
   ]
  },
  {
   "cell_type": "code",
   "execution_count": 44,
   "metadata": {},
   "outputs": [],
   "source": [
    "y_predict = pcr_model.predict(x_reduced_train)"
   ]
  },
  {
   "attachments": {},
   "cell_type": "markdown",
   "metadata": {},
   "source": [
    "Train seti üçün xətanın hesablanması:"
   ]
  },
  {
   "cell_type": "code",
   "execution_count": 45,
   "metadata": {},
   "outputs": [
    {
     "data": {
      "text/plain": [
       "85100766.97489107"
      ]
     },
     "execution_count": 45,
     "metadata": {},
     "output_type": "execute_result"
    }
   ],
   "source": [
    "import numpy as np\n",
    "from sklearn.metrics import mean_squared_error\n",
    "np.sqrt(mean_squared_error(y_train,y_predict))"
   ]
  },
  {
   "attachments": {},
   "cell_type": "markdown",
   "metadata": {},
   "source": [
    "R scorun hesablanması"
   ]
  },
  {
   "cell_type": "code",
   "execution_count": 48,
   "metadata": {},
   "outputs": [
    {
     "data": {
      "text/plain": [
       "0.22059138075329177"
      ]
     },
     "execution_count": 48,
     "metadata": {},
     "output_type": "execute_result"
    }
   ],
   "source": [
    "from sklearn.metrics import  r2_score\n",
    "r2_score(y_train,y_predict)"
   ]
  },
  {
   "cell_type": "code",
   "execution_count": 49,
   "metadata": {},
   "outputs": [],
   "source": [
    "pca2 = PCA()\n",
    "x_reduced_test = pca2.fit_transform(scale(x_test))"
   ]
  },
  {
   "cell_type": "code",
   "execution_count": 54,
   "metadata": {},
   "outputs": [],
   "source": [
    "test_predict = pcr_model.predict(x_reduced_test)"
   ]
  },
  {
   "attachments": {},
   "cell_type": "markdown",
   "metadata": {},
   "source": [
    "Test seti üçün xəta :"
   ]
  },
  {
   "cell_type": "code",
   "execution_count": 55,
   "metadata": {},
   "outputs": [
    {
     "data": {
      "text/plain": [
       "52453072.55912722"
      ]
     },
     "execution_count": 55,
     "metadata": {},
     "output_type": "execute_result"
    }
   ],
   "source": [
    "np.sqrt(mean_squared_error(y_test,test_predict))"
   ]
  },
  {
   "attachments": {},
   "cell_type": "markdown",
   "metadata": {},
   "source": [
    "Model tuning/Model təsdiqləmə : Train xətası (Brutforce xətası )hesablanır sonrada matplotliblə vizualizasiya olunur: "
   ]
  },
  {
   "cell_type": "code",
   "execution_count": 57,
   "metadata": {},
   "outputs": [],
   "source": [
    "from sklearn import  model_selection\n",
    "lm2 = LinearRegression()\n",
    "cv = model_selection.KFold(shuffle = True, random_state = 1)"
   ]
  },
  {
   "cell_type": "code",
   "execution_count": 59,
   "metadata": {},
   "outputs": [],
   "source": [
    "RMSE =[]"
   ]
  },
  {
   "attachments": {},
   "cell_type": "markdown",
   "metadata": {},
   "source": [
    "Brutforce üsulu"
   ]
  },
  {
   "cell_type": "code",
   "execution_count": 63,
   "metadata": {},
   "outputs": [],
   "source": [
    "for i in np.arange(1,x_reduced_train.shape[1]+1):\n",
    "    score = np.sqrt(-1 *model_selection.cross_val_score(lm2,x_reduced_train[:,:i],y_train.ravel(),cv = cv,scoring= \"neg_mean_squared_error\").mean())\n",
    "    RMSE.append(score)"
   ]
  },
  {
   "cell_type": "code",
   "execution_count": 64,
   "metadata": {},
   "outputs": [
    {
     "data": {
      "text/plain": [
       "Text(0, 0.5, 'RMSE')"
      ]
     },
     "execution_count": 64,
     "metadata": {},
     "output_type": "execute_result"
    },
    {
     "data": {
      "image/png": "[encoded data removed]",
      "text/plain": [
       "<Figure size 640x480 with 1 Axes>"
      ]
     },
     "metadata": {},
     "output_type": "display_data"
    }
   ],
   "source": [
    "import matplotlib.pyplot as plt\n",
    "plt.plot(RMSE,\"-v\")\n",
    "plt.xlabel(\"Əlaqələrin sayısı \")\n",
    "plt.ylabel(\"RMSE\")\n"
   ]
  },
  {
   "cell_type": "code",
   "execution_count": 65,
   "metadata": {},
   "outputs": [],
   "source": [
    "lm3 = LinearRegression()\n",
    "pcr_model02= lm3.fit(x_reduced_train[:,0:3],y_train) #Vizualizasiyada  ən kiçik dəyər"
   ]
  },
  {
   "cell_type": "code",
   "execution_count": 66,
   "metadata": {},
   "outputs": [
    {
     "name": "stdout",
     "output_type": "stream",
     "text": [
      "93511857.55843139\n"
     ]
    }
   ],
   "source": [
    "pred03 = pcr_model02.predict(x_reduced_train[:,0:3])\n",
    "print(np.sqrt(mean_squared_error(y_train,pred03)))"
   ]
  },
  {
   "cell_type": "code",
   "execution_count": 67,
   "metadata": {},
   "outputs": [
    {
     "name": "stdout",
     "output_type": "stream",
     "text": [
      "47465004.06181725\n"
     ]
    }
   ],
   "source": [
    "pred04 = pcr_model02.predict(x_reduced_test[:,0:3])\n",
    "print(np.sqrt(mean_squared_error(y_test,pred04)))"
   ]
  }
 ],
 "metadata": {
  "kernelspec": {
   "display_name": "Python 3",
   "language": "python",
   "name": "python3"
  },
  "language_info": {
   "codemirror_mode": {
    "name": "ipython",
    "version": 3
   },
   "file_extension": ".py",
   "mimetype": "text/x-python",
   "name": "python",
   "nbconvert_exporter": "python",
   "pygments_lexer": "ipython3",
   "version": "3.11.4"
  },
  "orig_nbformat": 4
 },
 "nbformat": 4,
 "nbformat_minor": 2
}
