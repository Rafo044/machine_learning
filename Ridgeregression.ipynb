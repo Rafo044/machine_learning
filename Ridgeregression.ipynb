{
 "cells": [
  {
   "cell_type": "code",
   "execution_count": 2,
   "metadata": {},
   "outputs": [],
   "source": [
    "import pandas as pd"
   ]
  },
  {
   "cell_type": "code",
   "execution_count": 3,
   "metadata": {},
   "outputs": [],
   "source": [
    "data = pd.read_csv(\"/var/home/rafo/vscode02/pandas_and_data_science/Hitters.csv\")\n",
    "df = data.copy()\n",
    "df = df.iloc[2:,:]\n",
    "df.dropna(inplace = True,axis = 0)"
   ]
  },
  {
   "cell_type": "code",
   "execution_count": 4,
   "metadata": {},
   "outputs": [
    {
     "data": {
      "text/html": [
       "<div>\n",
       "<style scoped>\n",
       "    .dataframe tbody tr th:only-of-type {\n",
       "        vertical-align: middle;\n",
       "    }\n",
       "\n",
       "    .dataframe tbody tr th {\n",
       "        vertical-align: top;\n",
       "    }\n",
       "\n",
       "    .dataframe thead th {\n",
       "        text-align: right;\n",
       "    }\n",
       "</style>\n",
       "<table border=\"1\" class=\"dataframe\">\n",
       "  <thead>\n",
       "    <tr style=\"text-align: right;\">\n",
       "      <th></th>\n",
       "      <th>count</th>\n",
       "      <th>mean</th>\n",
       "      <th>std</th>\n",
       "      <th>min</th>\n",
       "      <th>25%</th>\n",
       "      <th>50%</th>\n",
       "      <th>75%</th>\n",
       "      <th>max</th>\n",
       "    </tr>\n",
       "  </thead>\n",
       "  <tbody>\n",
       "    <tr>\n",
       "      <th>AtBat</th>\n",
       "      <td>262.0</td>\n",
       "      <td>403.980916</td>\n",
       "      <td>147.486721</td>\n",
       "      <td>19.0</td>\n",
       "      <td>282.25</td>\n",
       "      <td>414.0</td>\n",
       "      <td>526.00</td>\n",
       "      <td>687.0</td>\n",
       "    </tr>\n",
       "    <tr>\n",
       "      <th>Hits</th>\n",
       "      <td>262.0</td>\n",
       "      <td>107.931298</td>\n",
       "      <td>45.181065</td>\n",
       "      <td>1.0</td>\n",
       "      <td>71.25</td>\n",
       "      <td>103.5</td>\n",
       "      <td>141.75</td>\n",
       "      <td>238.0</td>\n",
       "    </tr>\n",
       "    <tr>\n",
       "      <th>HmRun</th>\n",
       "      <td>262.0</td>\n",
       "      <td>11.637405</td>\n",
       "      <td>8.769189</td>\n",
       "      <td>0.0</td>\n",
       "      <td>5.00</td>\n",
       "      <td>9.0</td>\n",
       "      <td>18.00</td>\n",
       "      <td>40.0</td>\n",
       "    </tr>\n",
       "    <tr>\n",
       "      <th>Runs</th>\n",
       "      <td>262.0</td>\n",
       "      <td>54.862595</td>\n",
       "      <td>25.517559</td>\n",
       "      <td>0.0</td>\n",
       "      <td>34.00</td>\n",
       "      <td>52.5</td>\n",
       "      <td>73.00</td>\n",
       "      <td>130.0</td>\n",
       "    </tr>\n",
       "    <tr>\n",
       "      <th>RBI</th>\n",
       "      <td>262.0</td>\n",
       "      <td>51.538168</td>\n",
       "      <td>25.918759</td>\n",
       "      <td>0.0</td>\n",
       "      <td>30.00</td>\n",
       "      <td>47.0</td>\n",
       "      <td>71.00</td>\n",
       "      <td>121.0</td>\n",
       "    </tr>\n",
       "    <tr>\n",
       "      <th>Walks</th>\n",
       "      <td>262.0</td>\n",
       "      <td>41.122137</td>\n",
       "      <td>21.759227</td>\n",
       "      <td>0.0</td>\n",
       "      <td>23.00</td>\n",
       "      <td>37.0</td>\n",
       "      <td>57.00</td>\n",
       "      <td>105.0</td>\n",
       "    </tr>\n",
       "    <tr>\n",
       "      <th>Years</th>\n",
       "      <td>262.0</td>\n",
       "      <td>7.286260</td>\n",
       "      <td>4.784846</td>\n",
       "      <td>1.0</td>\n",
       "      <td>4.00</td>\n",
       "      <td>6.0</td>\n",
       "      <td>10.00</td>\n",
       "      <td>24.0</td>\n",
       "    </tr>\n",
       "    <tr>\n",
       "      <th>CAtBat</th>\n",
       "      <td>262.0</td>\n",
       "      <td>2654.522901</td>\n",
       "      <td>2290.433309</td>\n",
       "      <td>19.0</td>\n",
       "      <td>836.75</td>\n",
       "      <td>1929.5</td>\n",
       "      <td>3900.25</td>\n",
       "      <td>14053.0</td>\n",
       "    </tr>\n",
       "    <tr>\n",
       "      <th>CHits</th>\n",
       "      <td>262.0</td>\n",
       "      <td>721.755725</td>\n",
       "      <td>649.402532</td>\n",
       "      <td>4.0</td>\n",
       "      <td>211.00</td>\n",
       "      <td>513.0</td>\n",
       "      <td>1058.00</td>\n",
       "      <td>4256.0</td>\n",
       "    </tr>\n",
       "    <tr>\n",
       "      <th>CHmRun</th>\n",
       "      <td>262.0</td>\n",
       "      <td>69.240458</td>\n",
       "      <td>82.354896</td>\n",
       "      <td>0.0</td>\n",
       "      <td>15.00</td>\n",
       "      <td>39.5</td>\n",
       "      <td>92.75</td>\n",
       "      <td>548.0</td>\n",
       "    </tr>\n",
       "    <tr>\n",
       "      <th>CRuns</th>\n",
       "      <td>262.0</td>\n",
       "      <td>361.374046</td>\n",
       "      <td>331.823069</td>\n",
       "      <td>2.0</td>\n",
       "      <td>105.25</td>\n",
       "      <td>249.5</td>\n",
       "      <td>499.25</td>\n",
       "      <td>2165.0</td>\n",
       "    </tr>\n",
       "    <tr>\n",
       "      <th>CRBI</th>\n",
       "      <td>262.0</td>\n",
       "      <td>330.099237</td>\n",
       "      <td>323.945087</td>\n",
       "      <td>3.0</td>\n",
       "      <td>94.50</td>\n",
       "      <td>228.5</td>\n",
       "      <td>426.25</td>\n",
       "      <td>1659.0</td>\n",
       "    </tr>\n",
       "    <tr>\n",
       "      <th>CWalks</th>\n",
       "      <td>262.0</td>\n",
       "      <td>259.828244</td>\n",
       "      <td>264.465537</td>\n",
       "      <td>1.0</td>\n",
       "      <td>71.00</td>\n",
       "      <td>174.0</td>\n",
       "      <td>324.00</td>\n",
       "      <td>1566.0</td>\n",
       "    </tr>\n",
       "    <tr>\n",
       "      <th>PutOuts</th>\n",
       "      <td>262.0</td>\n",
       "      <td>289.408397</td>\n",
       "      <td>279.670573</td>\n",
       "      <td>0.0</td>\n",
       "      <td>112.25</td>\n",
       "      <td>223.0</td>\n",
       "      <td>319.75</td>\n",
       "      <td>1377.0</td>\n",
       "    </tr>\n",
       "    <tr>\n",
       "      <th>Assists</th>\n",
       "      <td>262.0</td>\n",
       "      <td>119.049618</td>\n",
       "      <td>145.282290</td>\n",
       "      <td>0.0</td>\n",
       "      <td>8.00</td>\n",
       "      <td>45.5</td>\n",
       "      <td>195.50</td>\n",
       "      <td>492.0</td>\n",
       "    </tr>\n",
       "    <tr>\n",
       "      <th>Errors</th>\n",
       "      <td>262.0</td>\n",
       "      <td>8.587786</td>\n",
       "      <td>6.618643</td>\n",
       "      <td>0.0</td>\n",
       "      <td>3.00</td>\n",
       "      <td>7.0</td>\n",
       "      <td>13.00</td>\n",
       "      <td>32.0</td>\n",
       "    </tr>\n",
       "    <tr>\n",
       "      <th>Salary</th>\n",
       "      <td>262.0</td>\n",
       "      <td>536.158424</td>\n",
       "      <td>451.966273</td>\n",
       "      <td>67.5</td>\n",
       "      <td>190.00</td>\n",
       "      <td>422.5</td>\n",
       "      <td>750.00</td>\n",
       "      <td>2460.0</td>\n",
       "    </tr>\n",
       "  </tbody>\n",
       "</table>\n",
       "</div>"
      ],
      "text/plain": [
       "         count         mean          std   min     25%     50%      75%  \\\n",
       "AtBat    262.0   403.980916   147.486721  19.0  282.25   414.0   526.00   \n",
       "Hits     262.0   107.931298    45.181065   1.0   71.25   103.5   141.75   \n",
       "HmRun    262.0    11.637405     8.769189   0.0    5.00     9.0    18.00   \n",
       "Runs     262.0    54.862595    25.517559   0.0   34.00    52.5    73.00   \n",
       "RBI      262.0    51.538168    25.918759   0.0   30.00    47.0    71.00   \n",
       "Walks    262.0    41.122137    21.759227   0.0   23.00    37.0    57.00   \n",
       "Years    262.0     7.286260     4.784846   1.0    4.00     6.0    10.00   \n",
       "CAtBat   262.0  2654.522901  2290.433309  19.0  836.75  1929.5  3900.25   \n",
       "CHits    262.0   721.755725   649.402532   4.0  211.00   513.0  1058.00   \n",
       "CHmRun   262.0    69.240458    82.354896   0.0   15.00    39.5    92.75   \n",
       "CRuns    262.0   361.374046   331.823069   2.0  105.25   249.5   499.25   \n",
       "CRBI     262.0   330.099237   323.945087   3.0   94.50   228.5   426.25   \n",
       "CWalks   262.0   259.828244   264.465537   1.0   71.00   174.0   324.00   \n",
       "PutOuts  262.0   289.408397   279.670573   0.0  112.25   223.0   319.75   \n",
       "Assists  262.0   119.049618   145.282290   0.0    8.00    45.5   195.50   \n",
       "Errors   262.0     8.587786     6.618643   0.0    3.00     7.0    13.00   \n",
       "Salary   262.0   536.158424   451.966273  67.5  190.00   422.5   750.00   \n",
       "\n",
       "             max  \n",
       "AtBat      687.0  \n",
       "Hits       238.0  \n",
       "HmRun       40.0  \n",
       "Runs       130.0  \n",
       "RBI        121.0  \n",
       "Walks      105.0  \n",
       "Years       24.0  \n",
       "CAtBat   14053.0  \n",
       "CHits     4256.0  \n",
       "CHmRun     548.0  \n",
       "CRuns     2165.0  \n",
       "CRBI      1659.0  \n",
       "CWalks    1566.0  \n",
       "PutOuts   1377.0  \n",
       "Assists    492.0  \n",
       "Errors      32.0  \n",
       "Salary    2460.0  "
      ]
     },
     "execution_count": 4,
     "metadata": {},
     "output_type": "execute_result"
    }
   ],
   "source": [
    "df.describe().T"
   ]
  },
  {
   "cell_type": "code",
   "execution_count": 5,
   "metadata": {},
   "outputs": [],
   "source": [
    "dms = pd.get_dummies(df[[\"League\",\"Division\",\"NewLeague\"]])"
   ]
  },
  {
   "cell_type": "code",
   "execution_count": 6,
   "metadata": {},
   "outputs": [],
   "source": [
    "y = df[\"Salary\"]\n",
    "x_ = df.drop([\"NewLeague\",\"Salary\",\"Division\",\"League\"],axis = 1)\n",
    "x = pd.concat([x_,dms[[\"League_N\",\"Division_W\",\"NewLeague_N\"]]],axis = 1)"
   ]
  },
  {
   "cell_type": "code",
   "execution_count": 7,
   "metadata": {},
   "outputs": [],
   "source": [
    "from sklearn.metrics import mean_squared_error\n",
    "from sklearn.model_selection import train_test_split\n",
    "from sklearn.linear_model import Ridge\n",
    "x_train,x_test,y_train,y_test = train_test_split(x,y,\n",
    "                                                 random_state=42,\n",
    "                                                 test_size=0.25)"
   ]
  },
  {
   "cell_type": "code",
   "execution_count": 8,
   "metadata": {},
   "outputs": [],
   "source": [
    "ridge_model = Ridge(alpha=0.02).fit(x_train,y_train)"
   ]
  },
  {
   "cell_type": "code",
   "execution_count": 9,
   "metadata": {},
   "outputs": [
    {
     "data": {
      "text/html": [
       "<style>#sk-container-id-1 {color: black;}#sk-container-id-1 pre{padding: 0;}#sk-container-id-1 div.sk-toggleable {background-color: white;}#sk-container-id-1 label.sk-toggleable__label {cursor: pointer;display: block;width: 100%;margin-bottom: 0;padding: 0.3em;box-sizing: border-box;text-align: center;}#sk-container-id-1 label.sk-toggleable__label-arrow:before {content: \"▸\";float: left;margin-right: 0.25em;color: #696969;}#sk-container-id-1 label.sk-toggleable__label-arrow:hover:before {color: black;}#sk-container-id-1 div.sk-estimator:hover label.sk-toggleable__label-arrow:before {color: black;}#sk-container-id-1 div.sk-toggleable__content {max-height: 0;max-width: 0;overflow: hidden;text-align: left;background-color: #f0f8ff;}#sk-container-id-1 div.sk-toggleable__content pre {margin: 0.2em;color: black;border-radius: 0.25em;background-color: #f0f8ff;}#sk-container-id-1 input.sk-toggleable__control:checked~div.sk-toggleable__content {max-height: 200px;max-width: 100%;overflow: auto;}#sk-container-id-1 input.sk-toggleable__control:checked~label.sk-toggleable__label-arrow:before {content: \"▾\";}#sk-container-id-1 div.sk-estimator input.sk-toggleable__control:checked~label.sk-toggleable__label {background-color: #d4ebff;}#sk-container-id-1 div.sk-label input.sk-toggleable__control:checked~label.sk-toggleable__label {background-color: #d4ebff;}#sk-container-id-1 input.sk-hidden--visually {border: 0;clip: rect(1px 1px 1px 1px);clip: rect(1px, 1px, 1px, 1px);height: 1px;margin: -1px;overflow: hidden;padding: 0;position: absolute;width: 1px;}#sk-container-id-1 div.sk-estimator {font-family: monospace;background-color: #f0f8ff;border: 1px dotted black;border-radius: 0.25em;box-sizing: border-box;margin-bottom: 0.5em;}#sk-container-id-1 div.sk-estimator:hover {background-color: #d4ebff;}#sk-container-id-1 div.sk-parallel-item::after {content: \"\";width: 100%;border-bottom: 1px solid gray;flex-grow: 1;}#sk-container-id-1 div.sk-label:hover label.sk-toggleable__label {background-color: #d4ebff;}#sk-container-id-1 div.sk-serial::before {content: \"\";position: absolute;border-left: 1px solid gray;box-sizing: border-box;top: 0;bottom: 0;left: 50%;z-index: 0;}#sk-container-id-1 div.sk-serial {display: flex;flex-direction: column;align-items: center;background-color: white;padding-right: 0.2em;padding-left: 0.2em;position: relative;}#sk-container-id-1 div.sk-item {position: relative;z-index: 1;}#sk-container-id-1 div.sk-parallel {display: flex;align-items: stretch;justify-content: center;background-color: white;position: relative;}#sk-container-id-1 div.sk-item::before, #sk-container-id-1 div.sk-parallel-item::before {content: \"\";position: absolute;border-left: 1px solid gray;box-sizing: border-box;top: 0;bottom: 0;left: 50%;z-index: -1;}#sk-container-id-1 div.sk-parallel-item {display: flex;flex-direction: column;z-index: 1;position: relative;background-color: white;}#sk-container-id-1 div.sk-parallel-item:first-child::after {align-self: flex-end;width: 50%;}#sk-container-id-1 div.sk-parallel-item:last-child::after {align-self: flex-start;width: 50%;}#sk-container-id-1 div.sk-parallel-item:only-child::after {width: 0;}#sk-container-id-1 div.sk-dashed-wrapped {border: 1px dashed gray;margin: 0 0.4em 0.5em 0.4em;box-sizing: border-box;padding-bottom: 0.4em;background-color: white;}#sk-container-id-1 div.sk-label label {font-family: monospace;font-weight: bold;display: inline-block;line-height: 1.2em;}#sk-container-id-1 div.sk-label-container {text-align: center;}#sk-container-id-1 div.sk-container {/* jupyter's `normalize.less` sets `[hidden] { display: none; }` but bootstrap.min.css set `[hidden] { display: none !important; }` so we also need the `!important` here to be able to override the default hidden behavior on the sphinx rendered scikit-learn.org. See: https://github.com/scikit-learn/scikit-learn/issues/21755 */display: inline-block !important;position: relative;}#sk-container-id-1 div.sk-text-repr-fallback {display: none;}</style><div id=\"sk-container-id-1\" class=\"sk-top-container\"><div class=\"sk-text-repr-fallback\"><pre>Ridge(alpha=0.02)</pre><b>In a Jupyter environment, please rerun this cell to show the HTML representation or trust the notebook. <br />On GitHub, the HTML representation is unable to render, please try loading this page with nbviewer.org.</b></div><div class=\"sk-container\" hidden><div class=\"sk-item\"><div class=\"sk-estimator sk-toggleable\"><input class=\"sk-toggleable__control sk-hidden--visually\" id=\"sk-estimator-id-1\" type=\"checkbox\" checked><label for=\"sk-estimator-id-1\" class=\"sk-toggleable__label sk-toggleable__label-arrow\">Ridge</label><div class=\"sk-toggleable__content\"><pre>Ridge(alpha=0.02)</pre></div></div></div></div></div>"
      ],
      "text/plain": [
       "Ridge(alpha=0.02)"
      ]
     },
     "execution_count": 9,
     "metadata": {},
     "output_type": "execute_result"
    }
   ],
   "source": [
    "ridge_model\n"
   ]
  },
  {
   "cell_type": "code",
   "execution_count": 10,
   "metadata": {},
   "outputs": [
    {
     "data": {
      "text/plain": [
       "array([-2.08303656e+00,  8.81391354e+00,  4.37685030e+00, -2.90521354e+00,\n",
       "       -2.63315285e+00,  7.42477697e+00, -9.84818041e-01, -9.12651041e-02,\n",
       "       -3.06436470e-01, -9.68523610e-01,  1.78849873e+00,  1.02992036e+00,\n",
       "       -1.01590988e+00,  1.72712288e-01,  3.08810345e-01, -1.26281406e+00,\n",
       "        6.53053157e+01, -9.14878949e+01, -2.49780144e+01])"
      ]
     },
     "execution_count": 10,
     "metadata": {},
     "output_type": "execute_result"
    }
   ],
   "source": [
    "ridge_model.coef_"
   ]
  },
  {
   "cell_type": "code",
   "execution_count": 11,
   "metadata": {},
   "outputs": [],
   "source": [
    "import numpy as np\n",
    "lamda = 10**np.linspace(20,-8,200)*0.5\n",
    "ridge_model2 = Ridge()\n",
    "coef = []\n",
    "for i in lamda:\n",
    "    ridge_model2.set_params(alpha = i)\n",
    "    ridge_model2.fit(x_train,y_train)\n",
    "    coef.append(ridge_model2.coef_)\n"
   ]
  },
  {
   "cell_type": "code",
   "execution_count": 12,
   "metadata": {},
   "outputs": [
    {
     "data": {
      "text/plain": [
       "Text(0.5, 1.0, 'Ridge əmsalları')"
      ]
     },
     "execution_count": 12,
     "metadata": {},
     "output_type": "execute_result"
    },
    {
     "data": {
      "image/png": "[encoded data removed]",
      "text/plain": [
       "<Figure size 640x480 with 1 Axes>"
      ]
     },
     "metadata": {},
     "output_type": "display_data"
    }
   ],
   "source": [
    "import matplotlib.pyplot as plt\n",
    "fig = plt.gca()\n",
    "fig.plot(coef,lamda)\n",
    "fig.set_xscale(\"log\")\n",
    "plt.xlabel(\"Lambda dəyəri\")\n",
    "plt.ylabel(\"Əmsallar\")\n",
    "plt.title(\"Ridge əmsalları\")"
   ]
  },
  {
   "cell_type": "code",
   "execution_count": null,
   "metadata": {},
   "outputs": [],
   "source": []
  },
  {
   "attachments": {},
   "cell_type": "markdown",
   "metadata": {},
   "source": [
    "Model Tuning"
   ]
  },
  {
   "cell_type": "code",
   "execution_count": 14,
   "metadata": {},
   "outputs": [],
   "source": [
    "from sklearn.linear_model import RidgeCV\n",
    "ridge_cv = RidgeCV(alphas = lamda,scoring=\"neg_mean_squared_error\")"
   ]
  },
  {
   "cell_type": "code",
   "execution_count": 15,
   "metadata": {},
   "outputs": [
    {
     "data": {
      "text/html": [
       "<style>#sk-container-id-2 {color: black;}#sk-container-id-2 pre{padding: 0;}#sk-container-id-2 div.sk-toggleable {background-color: white;}#sk-container-id-2 label.sk-toggleable__label {cursor: pointer;display: block;width: 100%;margin-bottom: 0;padding: 0.3em;box-sizing: border-box;text-align: center;}#sk-container-id-2 label.sk-toggleable__label-arrow:before {content: \"▸\";float: left;margin-right: 0.25em;color: #696969;}#sk-container-id-2 label.sk-toggleable__label-arrow:hover:before {color: black;}#sk-container-id-2 div.sk-estimator:hover label.sk-toggleable__label-arrow:before {color: black;}#sk-container-id-2 div.sk-toggleable__content {max-height: 0;max-width: 0;overflow: hidden;text-align: left;background-color: #f0f8ff;}#sk-container-id-2 div.sk-toggleable__content pre {margin: 0.2em;color: black;border-radius: 0.25em;background-color: #f0f8ff;}#sk-container-id-2 input.sk-toggleable__control:checked~div.sk-toggleable__content {max-height: 200px;max-width: 100%;overflow: auto;}#sk-container-id-2 input.sk-toggleable__control:checked~label.sk-toggleable__label-arrow:before {content: \"▾\";}#sk-container-id-2 div.sk-estimator input.sk-toggleable__control:checked~label.sk-toggleable__label {background-color: #d4ebff;}#sk-container-id-2 div.sk-label input.sk-toggleable__control:checked~label.sk-toggleable__label {background-color: #d4ebff;}#sk-container-id-2 input.sk-hidden--visually {border: 0;clip: rect(1px 1px 1px 1px);clip: rect(1px, 1px, 1px, 1px);height: 1px;margin: -1px;overflow: hidden;padding: 0;position: absolute;width: 1px;}#sk-container-id-2 div.sk-estimator {font-family: monospace;background-color: #f0f8ff;border: 1px dotted black;border-radius: 0.25em;box-sizing: border-box;margin-bottom: 0.5em;}#sk-container-id-2 div.sk-estimator:hover {background-color: #d4ebff;}#sk-container-id-2 div.sk-parallel-item::after {content: \"\";width: 100%;border-bottom: 1px solid gray;flex-grow: 1;}#sk-container-id-2 div.sk-label:hover label.sk-toggleable__label {background-color: #d4ebff;}#sk-container-id-2 div.sk-serial::before {content: \"\";position: absolute;border-left: 1px solid gray;box-sizing: border-box;top: 0;bottom: 0;left: 50%;z-index: 0;}#sk-container-id-2 div.sk-serial {display: flex;flex-direction: column;align-items: center;background-color: white;padding-right: 0.2em;padding-left: 0.2em;position: relative;}#sk-container-id-2 div.sk-item {position: relative;z-index: 1;}#sk-container-id-2 div.sk-parallel {display: flex;align-items: stretch;justify-content: center;background-color: white;position: relative;}#sk-container-id-2 div.sk-item::before, #sk-container-id-2 div.sk-parallel-item::before {content: \"\";position: absolute;border-left: 1px solid gray;box-sizing: border-box;top: 0;bottom: 0;left: 50%;z-index: -1;}#sk-container-id-2 div.sk-parallel-item {display: flex;flex-direction: column;z-index: 1;position: relative;background-color: white;}#sk-container-id-2 div.sk-parallel-item:first-child::after {align-self: flex-end;width: 50%;}#sk-container-id-2 div.sk-parallel-item:last-child::after {align-self: flex-start;width: 50%;}#sk-container-id-2 div.sk-parallel-item:only-child::after {width: 0;}#sk-container-id-2 div.sk-dashed-wrapped {border: 1px dashed gray;margin: 0 0.4em 0.5em 0.4em;box-sizing: border-box;padding-bottom: 0.4em;background-color: white;}#sk-container-id-2 div.sk-label label {font-family: monospace;font-weight: bold;display: inline-block;line-height: 1.2em;}#sk-container-id-2 div.sk-label-container {text-align: center;}#sk-container-id-2 div.sk-container {/* jupyter's `normalize.less` sets `[hidden] { display: none; }` but bootstrap.min.css set `[hidden] { display: none !important; }` so we also need the `!important` here to be able to override the default hidden behavior on the sphinx rendered scikit-learn.org. See: https://github.com/scikit-learn/scikit-learn/issues/21755 */display: inline-block !important;position: relative;}#sk-container-id-2 div.sk-text-repr-fallback {display: none;}</style><div id=\"sk-container-id-2\" class=\"sk-top-container\"><div class=\"sk-text-repr-fallback\"><pre>RidgeCV(alphas=array([5.00000000e+19, 3.61631695e+19, 2.61554965e+19, 1.89173131e+19,\n",
       "       1.36822000e+19, 9.89583434e+18, 7.15729469e+18, 5.17660922e+18,\n",
       "       3.74405193e+18, 2.70793569e+18, 1.95855075e+18, 1.41654805e+18,\n",
       "       1.02453734e+18, 7.41010353e+17, 5.35945660e+17, 3.87629874e+17,\n",
       "       2.80358497e+17, 2.02773037e+17, 1.46658314e+17, 1.06072589e+17,\n",
       "       7.67184204e+16, 5.54876248e+1...\n",
       "       8.61292983e-06, 6.22941682e-06, 4.50550913e-06, 3.25866980e-06,\n",
       "       2.35687657e-06, 1.70464253e-06, 1.23290554e-06, 8.91715438e-07,\n",
       "       6.44945131e-07, 4.66465201e-07, 3.37377203e-07, 2.44012579e-07,\n",
       "       1.76485365e-07, 1.27645403e-07, 9.23212471e-08, 6.67725781e-08,\n",
       "       4.82941612e-08, 3.49293987e-08, 2.52631553e-08, 1.82719154e-08,\n",
       "       1.32154074e-08, 9.55822038e-09, 6.91311087e-09, 5.00000000e-09]),\n",
       "        scoring=&#x27;neg_mean_squared_error&#x27;)</pre><b>In a Jupyter environment, please rerun this cell to show the HTML representation or trust the notebook. <br />On GitHub, the HTML representation is unable to render, please try loading this page with nbviewer.org.</b></div><div class=\"sk-container\" hidden><div class=\"sk-item\"><div class=\"sk-estimator sk-toggleable\"><input class=\"sk-toggleable__control sk-hidden--visually\" id=\"sk-estimator-id-2\" type=\"checkbox\" checked><label for=\"sk-estimator-id-2\" class=\"sk-toggleable__label sk-toggleable__label-arrow\">RidgeCV</label><div class=\"sk-toggleable__content\"><pre>RidgeCV(alphas=array([5.00000000e+19, 3.61631695e+19, 2.61554965e+19, 1.89173131e+19,\n",
       "       1.36822000e+19, 9.89583434e+18, 7.15729469e+18, 5.17660922e+18,\n",
       "       3.74405193e+18, 2.70793569e+18, 1.95855075e+18, 1.41654805e+18,\n",
       "       1.02453734e+18, 7.41010353e+17, 5.35945660e+17, 3.87629874e+17,\n",
       "       2.80358497e+17, 2.02773037e+17, 1.46658314e+17, 1.06072589e+17,\n",
       "       7.67184204e+16, 5.54876248e+1...\n",
       "       8.61292983e-06, 6.22941682e-06, 4.50550913e-06, 3.25866980e-06,\n",
       "       2.35687657e-06, 1.70464253e-06, 1.23290554e-06, 8.91715438e-07,\n",
       "       6.44945131e-07, 4.66465201e-07, 3.37377203e-07, 2.44012579e-07,\n",
       "       1.76485365e-07, 1.27645403e-07, 9.23212471e-08, 6.67725781e-08,\n",
       "       4.82941612e-08, 3.49293987e-08, 2.52631553e-08, 1.82719154e-08,\n",
       "       1.32154074e-08, 9.55822038e-09, 6.91311087e-09, 5.00000000e-09]),\n",
       "        scoring=&#x27;neg_mean_squared_error&#x27;)</pre></div></div></div></div></div>"
      ],
      "text/plain": [
       "RidgeCV(alphas=array([5.00000000e+19, 3.61631695e+19, 2.61554965e+19, 1.89173131e+19,\n",
       "       1.36822000e+19, 9.89583434e+18, 7.15729469e+18, 5.17660922e+18,\n",
       "       3.74405193e+18, 2.70793569e+18, 1.95855075e+18, 1.41654805e+18,\n",
       "       1.02453734e+18, 7.41010353e+17, 5.35945660e+17, 3.87629874e+17,\n",
       "       2.80358497e+17, 2.02773037e+17, 1.46658314e+17, 1.06072589e+17,\n",
       "       7.67184204e+16, 5.54876248e+1...\n",
       "       8.61292983e-06, 6.22941682e-06, 4.50550913e-06, 3.25866980e-06,\n",
       "       2.35687657e-06, 1.70464253e-06, 1.23290554e-06, 8.91715438e-07,\n",
       "       6.44945131e-07, 4.66465201e-07, 3.37377203e-07, 2.44012579e-07,\n",
       "       1.76485365e-07, 1.27645403e-07, 9.23212471e-08, 6.67725781e-08,\n",
       "       4.82941612e-08, 3.49293987e-08, 2.52631553e-08, 1.82719154e-08,\n",
       "       1.32154074e-08, 9.55822038e-09, 6.91311087e-09, 5.00000000e-09]),\n",
       "        scoring='neg_mean_squared_error')"
      ]
     },
     "execution_count": 15,
     "metadata": {},
     "output_type": "execute_result"
    }
   ],
   "source": [
    "ridge_cv.fit(x_train,y_train)"
   ]
  },
  {
   "cell_type": "code",
   "execution_count": 16,
   "metadata": {},
   "outputs": [
    {
     "data": {
      "text/plain": [
       "6301.914648398637"
      ]
     },
     "execution_count": 16,
     "metadata": {},
     "output_type": "execute_result"
    }
   ],
   "source": [
    "ridge_cv.alpha_"
   ]
  },
  {
   "cell_type": "code",
   "execution_count": 18,
   "metadata": {},
   "outputs": [],
   "source": [
    "ridge_tuned = Ridge(alpha=ridge_cv.alpha_).fit(x_train,y_train)"
   ]
  },
  {
   "cell_type": "code",
   "execution_count": 19,
   "metadata": {},
   "outputs": [
    {
     "data": {
      "text/plain": [
       "334.05831453184686"
      ]
     },
     "execution_count": 19,
     "metadata": {},
     "output_type": "execute_result"
    }
   ],
   "source": [
    "np.sqrt(mean_squared_error(y_test,ridge_tuned.predict(x_test)))"
   ]
  }
 ],
 "metadata": {
  "kernelspec": {
   "display_name": "Python 3",
   "language": "python",
   "name": "python3"
  },
  "language_info": {
   "codemirror_mode": {
    "name": "ipython",
    "version": 3
   },
   "file_extension": ".py",
   "mimetype": "text/x-python",
   "name": "python",
   "nbconvert_exporter": "python",
   "pygments_lexer": "ipython3",
   "version": "3.11.4"
  },
  "orig_nbformat": 4
 },
 "nbformat": 4,
 "nbformat_minor": 2
}
