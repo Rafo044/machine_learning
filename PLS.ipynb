{
 "cells": [
  {
   "cell_type": "code",
   "execution_count": 4,
   "metadata": {},
   "outputs": [
    {
     "data": {
      "text/html": [
       "<div>\n",
       "<style scoped>\n",
       "    .dataframe tbody tr th:only-of-type {\n",
       "        vertical-align: middle;\n",
       "    }\n",
       "\n",
       "    .dataframe tbody tr th {\n",
       "        vertical-align: top;\n",
       "    }\n",
       "\n",
       "    .dataframe thead th {\n",
       "        text-align: right;\n",
       "    }\n",
       "</style>\n",
       "<table border=\"1\" class=\"dataframe\">\n",
       "  <thead>\n",
       "    <tr style=\"text-align: right;\">\n",
       "      <th></th>\n",
       "      <th>Value imported in 2022 (USD thousand)</th>\n",
       "      <th>Trade balance in 2022 (USD thousand)</th>\n",
       "      <th>Annual growth in value between 2018-2022 (%)</th>\n",
       "      <th>Annual growth in value between 2021-2022 (%)</th>\n",
       "      <th>Share in world imports (%)</th>\n",
       "      <th>Average distance of supplying countries (km)</th>\n",
       "      <th>Concentration of supplying countries</th>\n",
       "      <th>Average tariff (estimated) applied by the country (%)</th>\n",
       "    </tr>\n",
       "  </thead>\n",
       "  <tbody>\n",
       "    <tr>\n",
       "      <th>0</th>\n",
       "      <td>4689232</td>\n",
       "      <td>-3115279</td>\n",
       "      <td>-7.0</td>\n",
       "      <td>10.0</td>\n",
       "      <td>0.0</td>\n",
       "      <td>2277.0</td>\n",
       "      <td>0.14</td>\n",
       "      <td>8.1</td>\n",
       "    </tr>\n",
       "    <tr>\n",
       "      <th>1</th>\n",
       "      <td>8407345</td>\n",
       "      <td>-4101110</td>\n",
       "      <td>10.0</td>\n",
       "      <td>9.0</td>\n",
       "      <td>0.0</td>\n",
       "      <td>1557.0</td>\n",
       "      <td>0.09</td>\n",
       "      <td>2.2</td>\n",
       "    </tr>\n",
       "    <tr>\n",
       "      <th>2</th>\n",
       "      <td>33766897</td>\n",
       "      <td>32969278</td>\n",
       "      <td>-6.0</td>\n",
       "      <td>5.0</td>\n",
       "      <td>0.1</td>\n",
       "      <td>5034.0</td>\n",
       "      <td>0.08</td>\n",
       "      <td>14.4</td>\n",
       "    </tr>\n",
       "    <tr>\n",
       "      <th>3</th>\n",
       "      <td>1864441</td>\n",
       "      <td>-1478298</td>\n",
       "      <td>3.0</td>\n",
       "      <td>19.0</td>\n",
       "      <td>0.0</td>\n",
       "      <td>1028.0</td>\n",
       "      <td>0.45</td>\n",
       "      <td>NaN</td>\n",
       "    </tr>\n",
       "    <tr>\n",
       "      <th>4</th>\n",
       "      <td>17710712</td>\n",
       "      <td>33557888</td>\n",
       "      <td>-1.0</td>\n",
       "      <td>56.0</td>\n",
       "      <td>0.1</td>\n",
       "      <td>8524.0</td>\n",
       "      <td>0.07</td>\n",
       "      <td>8.4</td>\n",
       "    </tr>\n",
       "    <tr>\n",
       "      <th>...</th>\n",
       "      <td>...</td>\n",
       "      <td>...</td>\n",
       "      <td>...</td>\n",
       "      <td>...</td>\n",
       "      <td>...</td>\n",
       "      <td>...</td>\n",
       "      <td>...</td>\n",
       "      <td>...</td>\n",
       "    </tr>\n",
       "    <tr>\n",
       "      <th>192</th>\n",
       "      <td>28264000</td>\n",
       "      <td>-12977072</td>\n",
       "      <td>11.0</td>\n",
       "      <td>19.0</td>\n",
       "      <td>0.1</td>\n",
       "      <td>3475.0</td>\n",
       "      <td>0.12</td>\n",
       "      <td>12.4</td>\n",
       "    </tr>\n",
       "    <tr>\n",
       "      <th>193</th>\n",
       "      <td>424720</td>\n",
       "      <td>-202207</td>\n",
       "      <td>7.0</td>\n",
       "      <td>25.0</td>\n",
       "      <td>0.0</td>\n",
       "      <td>6989.0</td>\n",
       "      <td>0.12</td>\n",
       "      <td>7.4</td>\n",
       "    </tr>\n",
       "    <tr>\n",
       "      <th>194</th>\n",
       "      <td>8985465</td>\n",
       "      <td>-7274046</td>\n",
       "      <td>8.0</td>\n",
       "      <td>8.0</td>\n",
       "      <td>0.0</td>\n",
       "      <td>6354.0</td>\n",
       "      <td>0.14</td>\n",
       "      <td>6.9</td>\n",
       "    </tr>\n",
       "    <tr>\n",
       "      <th>195</th>\n",
       "      <td>9048377</td>\n",
       "      <td>2641355</td>\n",
       "      <td>-1.0</td>\n",
       "      <td>27.0</td>\n",
       "      <td>0.0</td>\n",
       "      <td>4526.0</td>\n",
       "      <td>0.17</td>\n",
       "      <td>10.9</td>\n",
       "    </tr>\n",
       "    <tr>\n",
       "      <th>196</th>\n",
       "      <td>5722540</td>\n",
       "      <td>-2908531</td>\n",
       "      <td>14.0</td>\n",
       "      <td>11.0</td>\n",
       "      <td>0.0</td>\n",
       "      <td>3831.0</td>\n",
       "      <td>0.36</td>\n",
       "      <td>14.4</td>\n",
       "    </tr>\n",
       "  </tbody>\n",
       "</table>\n",
       "<p>197 rows × 8 columns</p>\n",
       "</div>"
      ],
      "text/plain": [
       "     Value imported in 2022 (USD thousand)  \\\n",
       "0                                  4689232   \n",
       "1                                  8407345   \n",
       "2                                 33766897   \n",
       "3                                  1864441   \n",
       "4                                 17710712   \n",
       "..                                     ...   \n",
       "192                               28264000   \n",
       "193                                 424720   \n",
       "194                                8985465   \n",
       "195                                9048377   \n",
       "196                                5722540   \n",
       "\n",
       "     Trade balance in 2022 (USD thousand)  \\\n",
       "0                                -3115279   \n",
       "1                                -4101110   \n",
       "2                                32969278   \n",
       "3                                -1478298   \n",
       "4                                33557888   \n",
       "..                                    ...   \n",
       "192                             -12977072   \n",
       "193                               -202207   \n",
       "194                              -7274046   \n",
       "195                               2641355   \n",
       "196                              -2908531   \n",
       "\n",
       "     Annual growth in value between 2018-2022 (%)  \\\n",
       "0                                            -7.0   \n",
       "1                                            10.0   \n",
       "2                                            -6.0   \n",
       "3                                             3.0   \n",
       "4                                            -1.0   \n",
       "..                                            ...   \n",
       "192                                          11.0   \n",
       "193                                           7.0   \n",
       "194                                           8.0   \n",
       "195                                          -1.0   \n",
       "196                                          14.0   \n",
       "\n",
       "     Annual growth in value between 2021-2022 (%)  Share in world imports (%)  \\\n",
       "0                                            10.0                         0.0   \n",
       "1                                             9.0                         0.0   \n",
       "2                                             5.0                         0.1   \n",
       "3                                            19.0                         0.0   \n",
       "4                                            56.0                         0.1   \n",
       "..                                            ...                         ...   \n",
       "192                                          19.0                         0.1   \n",
       "193                                          25.0                         0.0   \n",
       "194                                           8.0                         0.0   \n",
       "195                                          27.0                         0.0   \n",
       "196                                          11.0                         0.0   \n",
       "\n",
       "     Average distance of supplying countries (km)  \\\n",
       "0                                          2277.0   \n",
       "1                                          1557.0   \n",
       "2                                          5034.0   \n",
       "3                                          1028.0   \n",
       "4                                          8524.0   \n",
       "..                                            ...   \n",
       "192                                        3475.0   \n",
       "193                                        6989.0   \n",
       "194                                        6354.0   \n",
       "195                                        4526.0   \n",
       "196                                        3831.0   \n",
       "\n",
       "     Concentration of supplying countries  \\\n",
       "0                                    0.14   \n",
       "1                                    0.09   \n",
       "2                                    0.08   \n",
       "3                                    0.45   \n",
       "4                                    0.07   \n",
       "..                                    ...   \n",
       "192                                  0.12   \n",
       "193                                  0.12   \n",
       "194                                  0.14   \n",
       "195                                  0.17   \n",
       "196                                  0.36   \n",
       "\n",
       "     Average tariff (estimated) applied by the country (%)  \n",
       "0                                                  8.1      \n",
       "1                                                  2.2      \n",
       "2                                                 14.4      \n",
       "3                                                  NaN      \n",
       "4                                                  8.4      \n",
       "..                                                 ...      \n",
       "192                                               12.4      \n",
       "193                                                7.4      \n",
       "194                                                6.9      \n",
       "195                                               10.9      \n",
       "196                                               14.4      \n",
       "\n",
       "[197 rows x 8 columns]"
      ]
     },
     "execution_count": 4,
     "metadata": {},
     "output_type": "execute_result"
    }
   ],
   "source": [
    "import pandas as pd\n",
    "data = pd.read_csv(\"/var/home/rafo/vscode02/Dataset/World_country_trade.csv\")\n",
    "df = data.copy()\n",
    "df = df.iloc[:,3:]\n",
    "df"
   ]
  },
  {
   "cell_type": "code",
   "execution_count": 6,
   "metadata": {},
   "outputs": [],
   "source": [
    "df.dropna(inplace= True)"
   ]
  },
  {
   "cell_type": "code",
   "execution_count": 18,
   "metadata": {},
   "outputs": [],
   "source": [
    "from sklearn.metrics import  mean_squared_error,r2_score\n",
    "from sklearn.model_selection import train_test_split\n",
    "from sklearn.linear_model import  LinearRegression\n",
    "from sklearn.cross_decomposition import  PLSRegression,PLSSVD"
   ]
  },
  {
   "cell_type": "code",
   "execution_count": 19,
   "metadata": {},
   "outputs": [],
   "source": [
    "y = df[\"Value imported in 2022 (USD thousand)\"]\n",
    "x = df.drop(\"Value imported in 2022 (USD thousand)\",axis= 1)\n",
    "x_train,x_test,y_train,y_test = train_test_split(x,y,random_state= 42,test_size= 0.25)"
   ]
  },
  {
   "attachments": {},
   "cell_type": "markdown",
   "metadata": {},
   "source": [
    "Model"
   ]
  },
  {
   "cell_type": "code",
   "execution_count": 20,
   "metadata": {},
   "outputs": [],
   "source": [
    "pls_model = PLSRegression().fit(x_train,y_train)"
   ]
  },
  {
   "cell_type": "code",
   "execution_count": 21,
   "metadata": {},
   "outputs": [
    {
     "data": {
      "text/plain": [
       "array([[ 2.59758444e+07,  7.83116782e+06,  2.86118318e+05,\n",
       "         2.89002100e+08, -6.20275670e+06,  7.37755402e+06,\n",
       "         1.36376595e+07]])"
      ]
     },
     "execution_count": 21,
     "metadata": {},
     "output_type": "execute_result"
    }
   ],
   "source": [
    "pls_model.coef_"
   ]
  },
  {
   "attachments": {},
   "cell_type": "markdown",
   "metadata": {},
   "source": [
    "Təxmin"
   ]
  },
  {
   "cell_type": "code",
   "execution_count": 22,
   "metadata": {},
   "outputs": [],
   "source": [
    "y_predict = pls_model.predict(x_train)"
   ]
  },
  {
   "attachments": {},
   "cell_type": "markdown",
   "metadata": {},
   "source": [
    "Train xətası"
   ]
  },
  {
   "cell_type": "code",
   "execution_count": 23,
   "metadata": {},
   "outputs": [
    {
     "data": {
      "text/plain": [
       "30885035.823956426"
      ]
     },
     "execution_count": 23,
     "metadata": {},
     "output_type": "execute_result"
    }
   ],
   "source": [
    "import numpy as np\n",
    "np.sqrt(mean_squared_error(y_train,y_predict))"
   ]
  },
  {
   "attachments": {},
   "cell_type": "markdown",
   "metadata": {},
   "source": [
    "R scorun hesablanması"
   ]
  },
  {
   "cell_type": "code",
   "execution_count": 24,
   "metadata": {},
   "outputs": [
    {
     "data": {
      "text/plain": [
       "0.9893326988720154"
      ]
     },
     "execution_count": 24,
     "metadata": {},
     "output_type": "execute_result"
    }
   ],
   "source": [
    "r2_score(y_train,y_predict)"
   ]
  },
  {
   "attachments": {},
   "cell_type": "markdown",
   "metadata": {},
   "source": [
    "Test xətası"
   ]
  },
  {
   "cell_type": "code",
   "execution_count": 25,
   "metadata": {},
   "outputs": [],
   "source": [
    "x_test_predict = pls_model.predict(x_test)"
   ]
  },
  {
   "cell_type": "code",
   "execution_count": 27,
   "metadata": {},
   "outputs": [
    {
     "data": {
      "text/plain": [
       "21874702.205949984"
      ]
     },
     "execution_count": 27,
     "metadata": {},
     "output_type": "execute_result"
    }
   ],
   "source": [
    "np.sqrt(mean_squared_error(y_test,x_test_predict))"
   ]
  },
  {
   "cell_type": "code",
   "execution_count": 30,
   "metadata": {},
   "outputs": [],
   "source": [
    "from sklearn import  model_selection\n",
    "pls = PLSRegression(n_components= 1)\n",
    "cv = model_selection.KFold(shuffle = True,random_state = 1)\n",
    "RMSE = []\n",
    "for i in np.arange(1,x_train.shape[1]+1):\n",
    "    score = np.sqrt(-1 *model_selection.cross_val_score(pls,x_train,y_train,cv = cv,scoring= \"neg_mean_squared_error\").mean())\n",
    "    RMSE.append(score)"
   ]
  },
  {
   "cell_type": "code",
   "execution_count": 32,
   "metadata": {},
   "outputs": [
    {
     "data": {
      "image/png": "[encoded data removed]",
      "text/plain": [
       "<Figure size 640x480 with 1 Axes>"
      ]
     },
     "metadata": {},
     "output_type": "display_data"
    }
   ],
   "source": [
    "import matplotlib.pyplot as plt\n",
    "plt.plot(RMSE)\n",
    "plt.xlabel(\"Əlaqə sayısı\")\n",
    "plt.ylabel(\"RMSE\")\n",
    "plt.show()"
   ]
  },
  {
   "attachments": {},
   "cell_type": "markdown",
   "metadata": {},
   "source": [
    "Final model (dəyişiklik olmuyacaq datanı düzgün seçməmişəm)"
   ]
  },
  {
   "cell_type": "code",
   "execution_count": 34,
   "metadata": {},
   "outputs": [],
   "source": [
    "pls_model_final = PLSRegression(n_components= 4).fit(x_train,y_train)"
   ]
  },
  {
   "cell_type": "code",
   "execution_count": 36,
   "metadata": {},
   "outputs": [],
   "source": [
    "y_predict_final = pls_model_final.predict(x_test)"
   ]
  },
  {
   "cell_type": "code",
   "execution_count": 37,
   "metadata": {},
   "outputs": [
    {
     "data": {
      "text/plain": [
       "6390441.882563245"
      ]
     },
     "execution_count": 37,
     "metadata": {},
     "output_type": "execute_result"
    }
   ],
   "source": [
    "np.sqrt(mean_squared_error(y_test,y_predict_final))"
   ]
  }
 ],
 "metadata": {
  "kernelspec": {
   "display_name": "Python 3",
   "language": "python",
   "name": "python3"
  },
  "language_info": {
   "codemirror_mode": {
    "name": "ipython",
    "version": 3
   },
   "file_extension": ".py",
   "mimetype": "text/x-python",
   "name": "python",
   "nbconvert_exporter": "python",
   "pygments_lexer": "ipython3",
   "version": "3.11.4"
  },
  "orig_nbformat": 4
 },
 "nbformat": 4,
 "nbformat_minor": 2
}
